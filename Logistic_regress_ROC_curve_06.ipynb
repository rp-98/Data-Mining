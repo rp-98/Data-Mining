{
 "cells": [
  {
   "cell_type": "code",
   "execution_count": 4,
   "metadata": {},
   "outputs": [],
   "source": [
    "import pandas as pd\n",
    "import numpy as np\n",
    "import matplotlib.pyplot as plt \n",
    "%matplotlib inline"
   ]
  },
  {
   "cell_type": "code",
   "execution_count": 216,
   "metadata": {},
   "outputs": [],
   "source": [
    "def logistregr(X,T,itr):\n",
    "    w0=1;lr=.1\n",
    "    k=X.shape[1] \n",
    "    w=np.zeros(k)     #random initialize weights\n",
    "    for i in range(itr):\n",
    "        z=w0+np.dot(X,w)\n",
    "        p=1 / (1 + np.exp(-z))\n",
    "    if(p>.5):\n",
    "        return 1\n",
    "    else:\n",
    "        return 0\n",
    "    "
   ]
  },
  {
   "cell_type": "code",
   "execution_count": 281,
   "metadata": {},
   "outputs": [
    {
     "name": "stdout",
     "output_type": "stream",
     "text": [
      "itera= 0   [[0.81757943]\n",
      " [0.72531892]]     Prediction = [[1 1 1 1]]\n",
      "itera= 1   [[0.64809957]\n",
      " [0.4769683 ]]     Prediction = [[1 1 1 1]]\n",
      "itera= 2   [[0.50117513]\n",
      " [0.28680534]]     Prediction = [[1 1 1 1]]\n",
      "itera= 3   [[0.38663495]\n",
      " [0.19658267]]     Prediction = [[1 1 1 1]]\n",
      "itera= 4   [[0.29779172]\n",
      " [0.19114867]]     Prediction = [[1 1 1 1]]\n",
      "itera= 5   [[0.21732443]\n",
      " [0.21019715]]     Prediction = [[1 1 1 1]]\n",
      "itera= 6   [[0.13909419]\n",
      " [0.23166288]]     Prediction = [[1 1 1 1]]\n",
      "itera= 7   [[0.06239047]\n",
      " [0.25304266]]     Prediction = [[1 1 1 1]]\n",
      "itera= 8   [[-0.01286249]\n",
      " [ 0.27413196]]     Prediction = [[1 1 1 1]]\n",
      "itera= 9   [[-0.08669037]\n",
      " [ 0.29491319]]     Prediction = [[1 1 1 1]]\n",
      "itera= 10   [[-0.15911602]\n",
      " [ 0.31538505]]     Prediction = [[1 1 1 1]]\n",
      "itera= 11   [[-0.23016321]\n",
      " [ 0.33554823]]     Prediction = [[1 1 1 1]]\n",
      "itera= 12   [[-0.29985681]\n",
      " [ 0.35540414]]     Prediction = [[1 1 1 1]]\n",
      "itera= 13   [[-0.36822262]\n",
      " [ 0.37495471]]     Prediction = [[1 1 1 1]]\n",
      "itera= 14   [[-0.43528719]\n",
      " [ 0.39420234]]     Prediction = [[1 1 1 1]]\n",
      "itera= 15   [[-0.50107769]\n",
      " [ 0.41314988]]     Prediction = [[0 1 1 1]]\n",
      "itera= 16   [[-0.56562169]\n",
      " [ 0.43180053]]     Prediction = [[0 1 1 1]]\n",
      "itera= 17   [[-0.62894709]\n",
      " [ 0.45015785]]     Prediction = [[0 1 1 1]]\n",
      "itera= 18   [[-0.69108195]\n",
      " [ 0.46822569]]     Prediction = [[0 1 1 1]]\n",
      "itera= 19   [[-0.75205437]\n",
      " [ 0.48600819]]     Prediction = [[0 1 1 1]]\n",
      "itera= 20   [[-0.8118924 ]\n",
      " [ 0.50350967]]     Prediction = [[0 1 1 1]]\n",
      "itera= 21   [[-0.87062395]\n",
      " [ 0.52073466]]     Prediction = [[0 1 1 1]]\n",
      "itera= 22   [[-0.92827668]\n",
      " [ 0.53768786]]     Prediction = [[0 1 1 1]]\n",
      "itera= 23   [[-0.98487797]\n",
      " [ 0.55437406]]     Prediction = [[0 1 1 1]]\n",
      "itera= 24   [[-1.04045484]\n",
      " [ 0.57079819]]     Prediction = [[0 1 1 1]]\n",
      "itera= 25   [[-1.09503387]\n",
      " [ 0.58696523]]     Prediction = [[0 1 1 1]]\n",
      "itera= 26   [[-1.1486412 ]\n",
      " [ 0.60288019]]     Prediction = [[0 1 1 1]]\n",
      "itera= 27   [[-1.20130246]\n",
      " [ 0.61854816]]     Prediction = [[0 1 1 1]]\n",
      "itera= 28   [[-1.25304278]\n",
      " [ 0.63397419]]     Prediction = [[0 1 1 1]]\n",
      "itera= 29   [[-1.30388669]\n",
      " [ 0.64916336]]     Prediction = [[0 1 1 1]]\n",
      "itera= 30   [[-1.3538582]\n",
      " [ 0.6641207]]     Prediction = [[0 0 1 1]]\n",
      "itera= 31   [[-1.40298071]\n",
      " [ 0.67885123]]     Prediction = [[0 0 1 1]]\n",
      "itera= 32   [[-1.45127703]\n",
      " [ 0.69335991]]     Prediction = [[0 0 1 1]]\n",
      "itera= 33   [[-1.49876938]\n",
      " [ 0.70765165]]     Prediction = [[0 0 1 1]]\n",
      "itera= 34   [[-1.54547937]\n",
      " [ 0.72173131]]     Prediction = [[0 0 1 1]]\n",
      "itera= 35   [[-1.59142802]\n",
      " [ 0.73560365]]     Prediction = [[0 0 1 1]]\n",
      "itera= 36   [[-1.63663575]\n",
      " [ 0.74927337]]     Prediction = [[0 0 1 1]]\n",
      "itera= 37   [[-1.68112239]\n",
      " [ 0.76274509]]     Prediction = [[0 0 1 1]]\n",
      "itera= 38   [[-1.72490719]\n",
      " [ 0.77602335]]     Prediction = [[0 0 1 1]]\n",
      "itera= 39   [[-1.76800883]\n",
      " [ 0.78911258]]     Prediction = [[0 0 1 1]]\n",
      "itera= 40   [[-1.81044541]\n",
      " [ 0.80201713]]     Prediction = [[0 0 1 1]]\n",
      "itera= 41   [[-1.85223449]\n",
      " [ 0.81474127]]     Prediction = [[0 0 1 1]]\n",
      "itera= 42   [[-1.8933931 ]\n",
      " [ 0.82728915]]     Prediction = [[0 0 1 1]]\n",
      "itera= 43   [[-1.93393771]\n",
      " [ 0.83966483]]     Prediction = [[0 0 1 1]]\n",
      "itera= 44   [[-1.97388431]\n",
      " [ 0.8518723 ]]     Prediction = [[0 0 1 1]]\n",
      "itera= 45   [[-2.01324837]\n",
      " [ 0.86391541]]     Prediction = [[0 0 1 1]]\n",
      "itera= 46   [[-2.05204486]\n",
      " [ 0.87579795]]     Prediction = [[0 0 1 1]]\n",
      "itera= 47   [[-2.09028831]\n",
      " [ 0.8875236 ]]     Prediction = [[0 0 1 1]]\n",
      "itera= 48   [[-2.12799275]\n",
      " [ 0.89909596]]     Prediction = [[0 0 1 1]]\n",
      "itera= 49   [[-2.16517181]\n",
      " [ 0.9105185 ]]     Prediction = [[0 0 1 1]]\n",
      "itera= 50   [[-2.20183865]\n",
      " [ 0.92179465]]     Prediction = [[0 0 1 1]]\n",
      "itera= 51   [[-2.23800601]\n",
      " [ 0.93292771]]     Prediction = [[0 0 1 1]]\n",
      "itera= 52   [[-2.27368626]\n",
      " [ 0.9439209 ]]     Prediction = [[0 0 1 1]]\n",
      "itera= 53   [[-2.30889135]\n",
      " [ 0.95477737]]     Prediction = [[0 0 1 1]]\n",
      "itera= 54   [[-2.34363285]\n",
      " [ 0.96550018]]     Prediction = [[0 0 1 1]]\n",
      "itera= 55   [[-2.37792198]\n",
      " [ 0.97609228]]     Prediction = [[0 0 1 1]]\n",
      "itera= 56   [[-2.41176959]\n",
      " [ 0.98655657]]     Prediction = [[0 0 1 1]]\n",
      "itera= 57   [[-2.44518621]\n",
      " [ 0.99689587]]     Prediction = [[0 0 1 1]]\n",
      "itera= 58   [[-2.478182  ]\n",
      " [ 1.00711289]]     Prediction = [[0 0 1 1]]\n",
      "itera= 59   [[-2.51076685]\n",
      " [ 1.01721031]]     Prediction = [[0 0 1 1]]\n",
      "itera= 60   [[-2.5429503]\n",
      " [ 1.0271907]]     Prediction = [[0 0 1 1]]\n",
      "itera= 61   [[-2.57474163]\n",
      " [ 1.03705658]]     Prediction = [[0 0 1 1]]\n",
      "itera= 62   [[-2.60614981]\n",
      " [ 1.04681039]]     Prediction = [[0 0 1 1]]\n",
      "itera= 63   [[-2.63718354]\n",
      " [ 1.05645451]]     Prediction = [[0 0 1 1]]\n",
      "itera= 64   [[-2.66785124]\n",
      " [ 1.06599124]]     Prediction = [[0 0 1 1]]\n",
      "itera= 65   [[-2.69816111]\n",
      " [ 1.07542284]]     Prediction = [[0 0 1 1]]\n",
      "itera= 66   [[-2.72812106]\n",
      " [ 1.08475149]]     Prediction = [[0 0 1 1]]\n",
      "itera= 67   [[-2.75773878]\n",
      " [ 1.09397931]]     Prediction = [[0 0 1 1]]\n",
      "itera= 68   [[-2.78702173]\n",
      " [ 1.10310837]]     Prediction = [[0 0 1 1]]\n",
      "itera= 69   [[-2.81597716]\n",
      " [ 1.11214069]]     Prediction = [[0 0 1 1]]\n",
      "itera= 70   [[-2.84461206]\n",
      " [ 1.12107821]]     Prediction = [[0 0 1 1]]\n",
      "itera= 71   [[-2.87293327]\n",
      " [ 1.12992284]]     Prediction = [[0 0 1 1]]\n",
      "itera= 72   [[-2.90094739]\n",
      " [ 1.13867643]]     Prediction = [[0 0 1 1]]\n",
      "itera= 73   [[-2.92866084]\n",
      " [ 1.14734078]]     Prediction = [[0 0 1 1]]\n",
      "itera= 74   [[-2.95607986]\n",
      " [ 1.15591764]]     Prediction = [[0 0 1 1]]\n",
      "itera= 75   [[-2.98321049]\n",
      " [ 1.16440872]]     Prediction = [[0 0 1 1]]\n",
      "itera= 76   [[-3.01005863]\n",
      " [ 1.17281569]]     Prediction = [[0 0 1 1]]\n",
      "itera= 77   [[-3.03662998]\n",
      " [ 1.18114014]]     Prediction = [[0 0 1 1]]\n",
      "itera= 78   [[-3.06293009]\n",
      " [ 1.18938367]]     Prediction = [[0 0 1 1]]\n",
      "itera= 79   [[-3.08896436]\n",
      " [ 1.1975478 ]]     Prediction = [[0 0 1 1]]\n",
      "itera= 80   [[-3.11473804]\n",
      " [ 1.20563402]]     Prediction = [[0 0 1 1]]\n",
      "itera= 81   [[-3.14025622]\n",
      " [ 1.21364379]]     Prediction = [[0 0 1 1]]\n",
      "itera= 82   [[-3.16552386]\n",
      " [ 1.22157852]]     Prediction = [[0 0 1 1]]\n",
      "itera= 83   [[-3.19054578]\n",
      " [ 1.22943959]]     Prediction = [[0 0 1 1]]\n",
      "itera= 84   [[-3.21532668]\n",
      " [ 1.23722834]]     Prediction = [[0 0 1 1]]\n",
      "itera= 85   [[-3.23987112]\n",
      " [ 1.24494609]]     Prediction = [[0 0 1 1]]\n",
      "itera= 86   [[-3.26418353]\n",
      " [ 1.25259411]]     Prediction = [[0 0 1 1]]\n",
      "itera= 87   [[-3.28826825]\n",
      " [ 1.26017364]]     Prediction = [[0 0 1 1]]\n",
      "itera= 88   [[-3.31212947]\n",
      " [ 1.26768589]]     Prediction = [[0 0 1 1]]\n",
      "itera= 89   [[-3.33577131]\n",
      " [ 1.27513205]]     Prediction = [[0 0 1 1]]\n",
      "itera= 90   [[-3.35919774]\n",
      " [ 1.28251328]]     Prediction = [[0 0 1 1]]\n",
      "itera= 91   [[-3.38241266]\n",
      " [ 1.28983069]]     Prediction = [[0 0 1 1]]\n",
      "itera= 92   [[-3.40541985]\n",
      " [ 1.29708538]]     Prediction = [[0 0 1 1]]\n",
      "itera= 93   [[-3.42822301]\n",
      " [ 1.30427842]]     Prediction = [[0 0 1 1]]\n",
      "itera= 94   [[-3.45082571]\n",
      " [ 1.31141086]]     Prediction = [[0 0 1 1]]\n",
      "itera= 95   [[-3.47323148]\n",
      " [ 1.31848371]]     Prediction = [[0 0 1 1]]\n",
      "itera= 96   [[-3.49544372]\n",
      " [ 1.32549797]]     Prediction = [[0 0 1 1]]\n",
      "itera= 97   [[-3.51746577]\n",
      " [ 1.33245461]]     Prediction = [[0 0 1 1]]\n",
      "itera= 98   [[-3.53930087]\n",
      " [ 1.33935458]]     Prediction = [[0 0 1 1]]\n",
      "itera= 99   [[-3.5609522]\n",
      " [ 1.3461988]]     Prediction = [[0 0 1 1]]\n"
     ]
    }
   ],
   "source": [
    "#given\n",
    "X=np.array([[1,2,4,5]])\n",
    "y=np.array([[0,0,1,1]])\n",
    "incpt=np.array([[1,1,1,1]])\n",
    "X_new=np.concatenate((incpt, X), axis=0)\n",
    "w=np.array([[1],[1]])\n",
    "for i in range(100):\n",
    "    z=np.dot(w.T,X_new)\n",
    "    p=1 / (1 + np.exp(-z))\n",
    "    dw=np.dot(X_new,(p-y).T)\n",
    "    w=w-.1*(dw)\n",
    "    p=p>.5\n",
    "    P=p.astype(int)\n",
    "    print('itera=',i,' ',w,'   ', 'Prediction =',P)\n",
    "Pr=P"
   ]
  },
  {
   "cell_type": "markdown",
   "metadata": {},
   "source": [
    "**MODEL after 100 Iterations**\n",
    "# z=-3.5609+1.3461\n",
    "## Y_hat= 1/(1+e^-z)"
   ]
  },
  {
   "cell_type": "code",
   "execution_count": 205,
   "metadata": {},
   "outputs": [],
   "source": [
    "Pr=[0 ,0 ,1, 1]  #predcited class after 100 inetartions\n",
    "Tr=[0 ,0 ,1, 1]"
   ]
  },
  {
   "cell_type": "code",
   "execution_count": 196,
   "metadata": {},
   "outputs": [],
   "source": [
    "from sklearn.metrics import  confusion_matrix"
   ]
  },
  {
   "cell_type": "code",
   "execution_count": 207,
   "metadata": {},
   "outputs": [
    {
     "data": {
      "text/plain": [
       "array([[2, 0],\n",
       "       [0, 2]], dtype=int64)"
      ]
     },
     "execution_count": 207,
     "metadata": {},
     "output_type": "execute_result"
    }
   ],
   "source": [
    "mat=confusion_matrix(Tr,Pr)\n",
    "mat"
   ]
  },
  {
   "cell_type": "code",
   "execution_count": 209,
   "metadata": {},
   "outputs": [
    {
     "data": {
      "text/plain": [
       "(2, 0, 0, 2)"
      ]
     },
     "execution_count": 209,
     "metadata": {},
     "output_type": "execute_result"
    }
   ],
   "source": [
    "tn, fp, fn, tp=confusion_matrix(Tr,Pr).ravel()\n",
    "(tn, fp, fn, tp)"
   ]
  },
  {
   "cell_type": "code",
   "execution_count": 212,
   "metadata": {},
   "outputs": [],
   "source": [
    "\n",
    "def accuracy_measure(TN, FP, FN, TP,total):\n",
    "    print('accuracy =',' ',(TP+TN)/total)\n",
    "    print('True Positive Rate =',' ', TP/(FN+TP))\n",
    "    print('False Positive Rate =',' ', FP/(FP+TN))\n",
    "    print('True Negative Rate =',' ', TN/(FP+TN))\n",
    "    print('Precision =',' ',TP/(TP+FP))"
   ]
  },
  {
   "cell_type": "code",
   "execution_count": 213,
   "metadata": {},
   "outputs": [
    {
     "name": "stdout",
     "output_type": "stream",
     "text": [
      "accuracy =   1.0\n",
      "True Positive Rate =   1.0\n",
      "False Positive Rate =   0.0\n",
      "True Negative Rate =   1.0\n",
      "Precision =   1.0\n"
     ]
    }
   ],
   "source": [
    "total=tn+fp+fn+tp\n",
    "(TN,FP,FN,TP)=(tn, fp, fn, tp)\n",
    "accuracy_measure(TN, FP, FN, TP,total)"
   ]
  },
  {
   "cell_type": "code",
   "execution_count": 280,
   "metadata": {},
   "outputs": [
    {
     "name": "stdout",
     "output_type": "stream",
     "text": [
      "TPR = [1.0, 1.0, 1.0, 1.0, 1.0, 1.0, 1.0, 1.0, 0.5]\n",
      "FPR = [0.5, 0.5, 0.0, 0.0, 0.0, 0.0, 0.0, 0.0, 0.0]\n"
     ]
    },
    {
     "data": {
      "text/html": [
       "<div>\n",
       "<style scoped>\n",
       "    .dataframe tbody tr th:only-of-type {\n",
       "        vertical-align: middle;\n",
       "    }\n",
       "\n",
       "    .dataframe tbody tr th {\n",
       "        vertical-align: top;\n",
       "    }\n",
       "\n",
       "    .dataframe thead th {\n",
       "        text-align: right;\n",
       "    }\n",
       "</style>\n",
       "<table border=\"1\" class=\"dataframe\">\n",
       "  <thead>\n",
       "    <tr style=\"text-align: right;\">\n",
       "      <th></th>\n",
       "      <th>Thresold</th>\n",
       "      <th>TPRs</th>\n",
       "      <th>FPRs</th>\n",
       "    </tr>\n",
       "  </thead>\n",
       "  <tbody>\n",
       "    <tr>\n",
       "      <td>0</td>\n",
       "      <td>0.1</td>\n",
       "      <td>1.0</td>\n",
       "      <td>0.5</td>\n",
       "    </tr>\n",
       "    <tr>\n",
       "      <td>1</td>\n",
       "      <td>0.2</td>\n",
       "      <td>1.0</td>\n",
       "      <td>0.5</td>\n",
       "    </tr>\n",
       "    <tr>\n",
       "      <td>2</td>\n",
       "      <td>0.3</td>\n",
       "      <td>1.0</td>\n",
       "      <td>0.0</td>\n",
       "    </tr>\n",
       "    <tr>\n",
       "      <td>3</td>\n",
       "      <td>0.4</td>\n",
       "      <td>1.0</td>\n",
       "      <td>0.0</td>\n",
       "    </tr>\n",
       "    <tr>\n",
       "      <td>4</td>\n",
       "      <td>0.5</td>\n",
       "      <td>1.0</td>\n",
       "      <td>0.0</td>\n",
       "    </tr>\n",
       "    <tr>\n",
       "      <td>5</td>\n",
       "      <td>0.6</td>\n",
       "      <td>1.0</td>\n",
       "      <td>0.0</td>\n",
       "    </tr>\n",
       "    <tr>\n",
       "      <td>6</td>\n",
       "      <td>0.7</td>\n",
       "      <td>1.0</td>\n",
       "      <td>0.0</td>\n",
       "    </tr>\n",
       "    <tr>\n",
       "      <td>7</td>\n",
       "      <td>0.8</td>\n",
       "      <td>1.0</td>\n",
       "      <td>0.0</td>\n",
       "    </tr>\n",
       "    <tr>\n",
       "      <td>8</td>\n",
       "      <td>0.9</td>\n",
       "      <td>0.5</td>\n",
       "      <td>0.0</td>\n",
       "    </tr>\n",
       "  </tbody>\n",
       "</table>\n",
       "</div>"
      ],
      "text/plain": [
       "   Thresold  TPRs  FPRs\n",
       "0       0.1   1.0   0.5\n",
       "1       0.2   1.0   0.5\n",
       "2       0.3   1.0   0.0\n",
       "3       0.4   1.0   0.0\n",
       "4       0.5   1.0   0.0\n",
       "5       0.6   1.0   0.0\n",
       "6       0.7   1.0   0.0\n",
       "7       0.8   1.0   0.0\n",
       "8       0.9   0.5   0.0"
      ]
     },
     "execution_count": 280,
     "metadata": {},
     "output_type": "execute_result"
    }
   ],
   "source": [
    "z=-3.5609+1.3461*X\n",
    "p=1 / (1 + np.exp(-z))\n",
    "trs=np.arange(.1,1,.1).tolist()\n",
    "TPR=[]\n",
    "FPR=[]\n",
    "for tr in trs:\n",
    "    \n",
    "    P=(p>tr).astype(int)\n",
    "    Pr=P[0,:].tolist()\n",
    "    \n",
    "   \n",
    "    tn, fp, fn, tp=confusion_matrix(Tr,Pr).ravel()\n",
    "    TPR.append(tp/(fn+tp))\n",
    "    FPR.append(fp/(fp+tn))\n",
    "print('TPR =',TPR) \n",
    "print('FPR =',FPR) \n",
    "f={'Thresold':trs,'TPRs':TPR,'FPRs':FPR}\n",
    "df=pd.DataFrame(f)\n",
    "df\n"
   ]
  },
  {
   "cell_type": "code",
   "execution_count": 266,
   "metadata": {},
   "outputs": [],
   "source": [
    "import matplotlib.pyplot as plt"
   ]
  },
  {
   "cell_type": "code",
   "execution_count": 275,
   "metadata": {},
   "outputs": [
    {
     "data": {
      "image/png": "[encoded data removed]",
      "text/plain": [
       "<Figure size 432x288 with 1 Axes>"
      ]
     },
     "metadata": {
      "needs_background": "light"
     },
     "output_type": "display_data"
    }
   ],
   "source": [
    "plt.plot(FPR,TPR,'r')\n",
    "plt.grid()\n",
    "plt.title('ROC Curve')\n"
   ]
  },
  {
   "cell_type": "code",
   "execution_count": 287,
   "metadata": {},
   "outputs": [
    {
     "data": {
      "text/html": [
       "<div>\n",
       "<style scoped>\n",
       "    .dataframe tbody tr th:only-of-type {\n",
       "        vertical-align: middle;\n",
       "    }\n",
       "\n",
       "    .dataframe tbody tr th {\n",
       "        vertical-align: top;\n",
       "    }\n",
       "\n",
       "    .dataframe thead th {\n",
       "        text-align: right;\n",
       "    }\n",
       "</style>\n",
       "<table border=\"1\" class=\"dataframe\">\n",
       "  <thead>\n",
       "    <tr style=\"text-align: right;\">\n",
       "      <th></th>\n",
       "      <th>x</th>\n",
       "      <th>y</th>\n",
       "      <th>yclass</th>\n",
       "    </tr>\n",
       "  </thead>\n",
       "  <tbody>\n",
       "    <tr>\n",
       "      <td>328</td>\n",
       "      <td>-12.275454</td>\n",
       "      <td>14.538973</td>\n",
       "      <td>1</td>\n",
       "    </tr>\n",
       "    <tr>\n",
       "      <td>50</td>\n",
       "      <td>-17.394735</td>\n",
       "      <td>16.922750</td>\n",
       "      <td>1</td>\n",
       "    </tr>\n",
       "    <tr>\n",
       "      <td>602</td>\n",
       "      <td>25.877293</td>\n",
       "      <td>6.553476</td>\n",
       "      <td>2</td>\n",
       "    </tr>\n",
       "    <tr>\n",
       "      <td>347</td>\n",
       "      <td>-14.735605</td>\n",
       "      <td>37.106748</td>\n",
       "      <td>1</td>\n",
       "    </tr>\n",
       "    <tr>\n",
       "      <td>401</td>\n",
       "      <td>10.513161</td>\n",
       "      <td>31.784154</td>\n",
       "      <td>2</td>\n",
       "    </tr>\n",
       "  </tbody>\n",
       "</table>\n",
       "</div>"
      ],
      "text/plain": [
       "             x          y  yclass\n",
       "328 -12.275454  14.538973       1\n",
       "50  -17.394735  16.922750       1\n",
       "602  25.877293   6.553476       2\n",
       "347 -14.735605  37.106748       1\n",
       "401  10.513161  31.784154       2"
      ]
     },
     "execution_count": 287,
     "metadata": {},
     "output_type": "execute_result"
    }
   ],
   "source": [
    "df=pd.read_csv('logistic-regression-binary.csv')\n",
    "df.sample(5)"
   ]
  },
  {
   "cell_type": "code",
   "execution_count": 307,
   "metadata": {},
   "outputs": [
    {
     "data": {
      "text/html": [
       "<div>\n",
       "<style scoped>\n",
       "    .dataframe tbody tr th:only-of-type {\n",
       "        vertical-align: middle;\n",
       "    }\n",
       "\n",
       "    .dataframe tbody tr th {\n",
       "        vertical-align: top;\n",
       "    }\n",
       "\n",
       "    .dataframe thead th {\n",
       "        text-align: right;\n",
       "    }\n",
       "</style>\n",
       "<table border=\"1\" class=\"dataframe\">\n",
       "  <thead>\n",
       "    <tr style=\"text-align: right;\">\n",
       "      <th></th>\n",
       "      <th>x</th>\n",
       "      <th>y</th>\n",
       "    </tr>\n",
       "    <tr>\n",
       "      <th>yclass</th>\n",
       "      <th></th>\n",
       "      <th></th>\n",
       "    </tr>\n",
       "  </thead>\n",
       "  <tbody>\n",
       "    <tr>\n",
       "      <td>1</td>\n",
       "      <td>360</td>\n",
       "      <td>360</td>\n",
       "    </tr>\n",
       "    <tr>\n",
       "      <td>2</td>\n",
       "      <td>360</td>\n",
       "      <td>360</td>\n",
       "    </tr>\n",
       "  </tbody>\n",
       "</table>\n",
       "</div>"
      ],
      "text/plain": [
       "          x    y\n",
       "yclass          \n",
       "1       360  360\n",
       "2       360  360"
      ]
     },
     "execution_count": 307,
     "metadata": {},
     "output_type": "execute_result"
    }
   ],
   "source": [
    "df.groupby('yclass').count()"
   ]
  },
  {
   "cell_type": "code",
   "execution_count": 308,
   "metadata": {},
   "outputs": [
    {
     "data": {
      "text/plain": [
       "2    360\n",
       "1    360\n",
       "Name: yclass, dtype: int64"
      ]
     },
     "execution_count": 308,
     "metadata": {},
     "output_type": "execute_result"
    }
   ],
   "source": [
    "df['yclass'].value_counts()"
   ]
  },
  {
   "cell_type": "code",
   "execution_count": 349,
   "metadata": {},
   "outputs": [
    {
     "data": {
      "text/plain": [
       "array([1, 0], dtype=int64)"
      ]
     },
     "execution_count": 349,
     "metadata": {},
     "output_type": "execute_result"
    }
   ],
   "source": [
    "df['yclass']=df['yclass'].replace(2,0)\n",
    "df['yclass'].unique()"
   ]
  },
  {
   "cell_type": "code",
   "execution_count": 350,
   "metadata": {},
   "outputs": [
    {
     "name": "stdout",
     "output_type": "stream",
     "text": [
      "<class 'pandas.core.frame.DataFrame'>\n",
      "RangeIndex: 720 entries, 0 to 719\n",
      "Data columns (total 3 columns):\n",
      "x         720 non-null float64\n",
      "y         720 non-null float64\n",
      "yclass    720 non-null int64\n",
      "dtypes: float64(2), int64(1)\n",
      "memory usage: 17.0 KB\n"
     ]
    }
   ],
   "source": [
    "df.info()"
   ]
  },
  {
   "cell_type": "code",
   "execution_count": 351,
   "metadata": {},
   "outputs": [
    {
     "data": {
      "text/plain": [
       "x         False\n",
       "y         False\n",
       "yclass    False\n",
       "dtype: bool"
      ]
     },
     "execution_count": 351,
     "metadata": {},
     "output_type": "execute_result"
    }
   ],
   "source": [
    "df.isnull().any()"
   ]
  },
  {
   "cell_type": "code",
   "execution_count": 352,
   "metadata": {},
   "outputs": [
    {
     "data": {
      "text/html": [
       "<div>\n",
       "<style scoped>\n",
       "    .dataframe tbody tr th:only-of-type {\n",
       "        vertical-align: middle;\n",
       "    }\n",
       "\n",
       "    .dataframe tbody tr th {\n",
       "        vertical-align: top;\n",
       "    }\n",
       "\n",
       "    .dataframe thead th {\n",
       "        text-align: right;\n",
       "    }\n",
       "</style>\n",
       "<table border=\"1\" class=\"dataframe\">\n",
       "  <thead>\n",
       "    <tr style=\"text-align: right;\">\n",
       "      <th></th>\n",
       "      <th>x</th>\n",
       "      <th>y</th>\n",
       "      <th>yclass</th>\n",
       "    </tr>\n",
       "  </thead>\n",
       "  <tbody>\n",
       "    <tr>\n",
       "      <td>count</td>\n",
       "      <td>720.000000</td>\n",
       "      <td>720.000000</td>\n",
       "      <td>720.000000</td>\n",
       "    </tr>\n",
       "    <tr>\n",
       "      <td>mean</td>\n",
       "      <td>-2.701315</td>\n",
       "      <td>19.854921</td>\n",
       "      <td>0.500000</td>\n",
       "    </tr>\n",
       "    <tr>\n",
       "      <td>std</td>\n",
       "      <td>20.700033</td>\n",
       "      <td>10.734394</td>\n",
       "      <td>0.500348</td>\n",
       "    </tr>\n",
       "    <tr>\n",
       "      <td>min</td>\n",
       "      <td>-52.736097</td>\n",
       "      <td>-34.044923</td>\n",
       "      <td>0.000000</td>\n",
       "    </tr>\n",
       "    <tr>\n",
       "      <td>25%</td>\n",
       "      <td>-21.269614</td>\n",
       "      <td>12.860790</td>\n",
       "      <td>0.000000</td>\n",
       "    </tr>\n",
       "    <tr>\n",
       "      <td>50%</td>\n",
       "      <td>-2.108764</td>\n",
       "      <td>19.717656</td>\n",
       "      <td>0.500000</td>\n",
       "    </tr>\n",
       "    <tr>\n",
       "      <td>75%</td>\n",
       "      <td>13.891912</td>\n",
       "      <td>27.513233</td>\n",
       "      <td>1.000000</td>\n",
       "    </tr>\n",
       "    <tr>\n",
       "      <td>max</td>\n",
       "      <td>48.502301</td>\n",
       "      <td>51.073358</td>\n",
       "      <td>1.000000</td>\n",
       "    </tr>\n",
       "  </tbody>\n",
       "</table>\n",
       "</div>"
      ],
      "text/plain": [
       "                x           y      yclass\n",
       "count  720.000000  720.000000  720.000000\n",
       "mean    -2.701315   19.854921    0.500000\n",
       "std     20.700033   10.734394    0.500348\n",
       "min    -52.736097  -34.044923    0.000000\n",
       "25%    -21.269614   12.860790    0.000000\n",
       "50%     -2.108764   19.717656    0.500000\n",
       "75%     13.891912   27.513233    1.000000\n",
       "max     48.502301   51.073358    1.000000"
      ]
     },
     "execution_count": 352,
     "metadata": {},
     "output_type": "execute_result"
    }
   ],
   "source": [
    "df.describe()"
   ]
  },
  {
   "cell_type": "code",
   "execution_count": 353,
   "metadata": {},
   "outputs": [
    {
     "data": {
      "text/plain": [
       "count    720.000000\n",
       "mean       0.500000\n",
       "std        0.500348\n",
       "min        0.000000\n",
       "25%        0.000000\n",
       "50%        0.500000\n",
       "75%        1.000000\n",
       "max        1.000000\n",
       "Name: yclass, dtype: float64"
      ]
     },
     "execution_count": 353,
     "metadata": {},
     "output_type": "execute_result"
    }
   ],
   "source": [
    "df['yclass'].describe()"
   ]
  },
  {
   "cell_type": "code",
   "execution_count": 354,
   "metadata": {},
   "outputs": [
    {
     "data": {
      "text/plain": [
       "<matplotlib.axes._subplots.AxesSubplot at 0x29c18c94d68>"
      ]
     },
     "execution_count": 354,
     "metadata": {},
     "output_type": "execute_result"
    },
    {
     "data": {
      "image/png": "[encoded data removed]",
      "text/plain": [
       "<Figure size 432x288 with 1 Axes>"
      ]
     },
     "metadata": {
      "needs_background": "light"
     },
     "output_type": "display_data"
    }
   ],
   "source": [
    "df['yclass'].hist()"
   ]
  },
  {
   "cell_type": "code",
   "execution_count": 355,
   "metadata": {},
   "outputs": [
    {
     "data": {
      "image/png": "[encoded data removed]",
      "text/plain": [
       "<Figure size 432x288 with 1 Axes>"
      ]
     },
     "metadata": {
      "needs_background": "light"
     },
     "output_type": "display_data"
    }
   ],
   "source": [
    "plt.plot(df['yclass'],'r*')\n",
    "plt.grid()"
   ]
  },
  {
   "cell_type": "code",
   "execution_count": 382,
   "metadata": {},
   "outputs": [],
   "source": [
    "from sklearn.linear_model import LogisticRegression\n",
    "X=df.iloc[:,[0,1]]\n",
    "y=df.iloc[:,2]"
   ]
  },
  {
   "cell_type": "code",
   "execution_count": 383,
   "metadata": {},
   "outputs": [],
   "source": [
    "model=LogisticRegression()"
   ]
  },
  {
   "cell_type": "code",
   "execution_count": 384,
   "metadata": {},
   "outputs": [
    {
     "name": "stderr",
     "output_type": "stream",
     "text": [
      "C:\\Users\\DeLL\\Anaconda3\\lib\\site-packages\\sklearn\\linear_model\\logistic.py:432: FutureWarning: Default solver will be changed to 'lbfgs' in 0.22. Specify a solver to silence this warning.\n",
      "  FutureWarning)\n"
     ]
    },
    {
     "data": {
      "text/plain": [
       "LogisticRegression(C=1.0, class_weight=None, dual=False, fit_intercept=True,\n",
       "                   intercept_scaling=1, l1_ratio=None, max_iter=100,\n",
       "                   multi_class='warn', n_jobs=None, penalty='l2',\n",
       "                   random_state=None, solver='warn', tol=0.0001, verbose=0,\n",
       "                   warm_start=False)"
      ]
     },
     "execution_count": 384,
     "metadata": {},
     "output_type": "execute_result"
    }
   ],
   "source": [
    "model.fit(X,y)"
   ]
  },
  {
   "cell_type": "code",
   "execution_count": 391,
   "metadata": {},
   "outputs": [],
   "source": [
    "pred=model.predict(X)\n"
   ]
  },
  {
   "cell_type": "code",
   "execution_count": 389,
   "metadata": {},
   "outputs": [
    {
     "ename": "TypeError",
     "evalue": "'numpy.ndarray' object is not callable",
     "output_type": "error",
     "traceback": [
      "\u001b[1;31m---------------------------------------------------------------------------\u001b[0m",
      "\u001b[1;31mTypeError\u001b[0m                                 Traceback (most recent call last)",
      "\u001b[1;32m<ipython-input-389-de104ee712d1>\u001b[0m in \u001b[0;36m<module>\u001b[1;34m\u001b[0m\n\u001b[1;32m----> 1\u001b[1;33m \u001b[0mconfusion_matrix\u001b[0m \u001b[1;33m=\u001b[0m \u001b[0mconfusion_matrix\u001b[0m\u001b[1;33m(\u001b[0m\u001b[0my\u001b[0m\u001b[1;33m,\u001b[0m \u001b[0mpred\u001b[0m\u001b[1;33m)\u001b[0m\u001b[1;33m\u001b[0m\u001b[1;33m\u001b[0m\u001b[0m\n\u001b[0m\u001b[0;32m      2\u001b[0m \u001b[0mprint\u001b[0m\u001b[1;33m(\u001b[0m\u001b[0mconfusion_matrix\u001b[0m\u001b[1;33m)\u001b[0m\u001b[1;33m\u001b[0m\u001b[1;33m\u001b[0m\u001b[0m\n",
      "\u001b[1;31mTypeError\u001b[0m: 'numpy.ndarray' object is not callable"
     ]
    }
   ],
   "source": [
    "confusion_matrix = confusion_matrix(y, pred)\n",
    "print(confusion_matrix)"
   ]
  },
  {
   "cell_type": "code",
   "execution_count": 366,
   "metadata": {},
   "outputs": [
    {
     "name": "stdout",
     "output_type": "stream",
     "text": [
      "              precision    recall  f1-score   support\n",
      "\n",
      "           0       0.96      0.96      0.96       360\n",
      "           1       0.96      0.96      0.96       360\n",
      "\n",
      "    accuracy                           0.96       720\n",
      "   macro avg       0.96      0.96      0.96       720\n",
      "weighted avg       0.96      0.96      0.96       720\n",
      "\n"
     ]
    }
   ],
   "source": [
    "from sklearn.metrics import classification_report\n",
    "print(classification_report(y, pred))"
   ]
  },
  {
   "cell_type": "code",
   "execution_count": 368,
   "metadata": {},
   "outputs": [],
   "source": [
    "from sklearn.metrics import roc_auc_score\n",
    "from sklearn.metrics import roc_curve\n",
    "logit_roc_auc = roc_auc_score(y, pred)\n",
    "fpr, tpr, thresholds = roc_curve(y, model.predict_proba(X)[:,1])"
   ]
  },
  {
   "cell_type": "code",
   "execution_count": 370,
   "metadata": {},
   "outputs": [
    {
     "data": {
      "image/png": "[encoded data removed]",
      "text/plain": [
       "<Figure size 432x288 with 1 Axes>"
      ]
     },
     "metadata": {
      "needs_background": "light"
     },
     "output_type": "display_data"
    }
   ],
   "source": [
    "plt.plot(fpr, tpr, label='Logistic Regression (area = %0.2f)' % logit_roc_auc)\n",
    "plt.grid()"
   ]
  },
  {
   "cell_type": "markdown",
   "metadata": {},
   "source": [
    "Comment:High accuracy is there"
   ]
  },
  {
   "cell_type": "code",
   "execution_count": null,
   "metadata": {},
   "outputs": [],
   "source": []
  }
 ],
 "metadata": {
  "kernelspec": {
   "display_name": "Python 3",
   "language": "python",
   "name": "python3"
  },
  "language_info": {
   "codemirror_mode": {
    "name": "ipython",
    "version": 3
   },
   "file_extension": ".py",
   "mimetype": "text/x-python",
   "name": "python",
   "nbconvert_exporter": "python",
   "pygments_lexer": "ipython3",
   "version": "3.7.3"
  }
 },
 "nbformat": 4,
 "nbformat_minor": 2
}

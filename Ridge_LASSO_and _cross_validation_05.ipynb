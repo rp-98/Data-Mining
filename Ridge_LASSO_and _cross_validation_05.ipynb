{
 "cells": [
  {
   "cell_type": "markdown",
   "metadata": {},
   "source": [
    "Part-1: Using the data set regularization_30_points.csv do the following\n",
    "\n",
    "a) Use OLS and 5-fold cross validation to arrive at the coefficients corresponding to the\n",
    "least RMSE values. "
   ]
  },
  {
   "cell_type": "code",
   "execution_count": 52,
   "metadata": {},
   "outputs": [],
   "source": [
    "#importing libraries\n",
    "import numpy as np\n",
    "import pandas as pd\n",
    "import matplotlib.pyplot as plt\n",
    "import math as m\n",
    "import seaborn as sns"
   ]
  },
  {
   "cell_type": "code",
   "execution_count": 53,
   "metadata": {},
   "outputs": [
    {
     "data": {
      "text/plain": [
       "Index(['y', 'x', 'x.1', 'x.2', 'x.3', 'x.4', 'x.5', 'x.6', 'x.7', 'x.8',\n",
       "       'x.9'],\n",
       "      dtype='object')"
      ]
     },
     "execution_count": 53,
     "metadata": {},
     "output_type": "execute_result"
    }
   ],
   "source": [
    "#importing and reading data\n",
    "df=pd.read_csv('regularization_30_points.csv')\n",
    "\n",
    "df.shape\n",
    "#df.info()\n",
    "#df.dropna()\n",
    "#df.isnull() ,df.fillna(0)\n",
    "#df.head(3)\n",
    "df.columns\n"
   ]
  },
  {
   "cell_type": "code",
   "execution_count": 54,
   "metadata": {},
   "outputs": [],
   "source": [
    "sns.set()\n",
    "#plt.figure(figsize=(4,4))\n",
    "#sns.pairplot(df,diag_kind='kde')\n",
    "from sklearn.linear_model import LinearRegression\n",
    "from sklearn.model_selection import train_test_split\n",
    "from sklearn.metrics import mean_squared_error\n",
    "#X_train, X_test, Y_train, Y_test =train_test_split(X, Y, test_size=0.30, random_state=100)\n",
    "#model=LinearRegression()\n",
    "#model.fit(X_train,Y_train)\n",
    "#pred_train=model.predict(X_train)\n",
    "#RMSE_train=mean_squared_error(Y_train,pred_train)\n",
    "#pred_test=model.predict(X_test)\n",
    "#RMSE_test=mean_squared_error(Y_test,pred_test)\n",
    "#RMSE_train,RMSE_test"
   ]
  },
  {
   "cell_type": "code",
   "execution_count": 95,
   "metadata": {},
   "outputs": [
    {
     "name": "stdout",
     "output_type": "stream",
     "text": [
      "RMSE_train_min \n",
      " 0.3314078419749401\n",
      "RMSE_test_min \n",
      " 0.6236164765494742\n",
      "cofficents\n"
     ]
    },
    {
     "data": {
      "text/html": [
       "<div>\n",
       "<style scoped>\n",
       "    .dataframe tbody tr th:only-of-type {\n",
       "        vertical-align: middle;\n",
       "    }\n",
       "\n",
       "    .dataframe tbody tr th {\n",
       "        vertical-align: top;\n",
       "    }\n",
       "\n",
       "    .dataframe thead th {\n",
       "        text-align: right;\n",
       "    }\n",
       "</style>\n",
       "<table border=\"1\" class=\"dataframe\">\n",
       "  <thead>\n",
       "    <tr style=\"text-align: right;\">\n",
       "      <th></th>\n",
       "      <th>0</th>\n",
       "      <th>1</th>\n",
       "      <th>2</th>\n",
       "      <th>3</th>\n",
       "      <th>4</th>\n",
       "      <th>5</th>\n",
       "      <th>6</th>\n",
       "      <th>7</th>\n",
       "      <th>8</th>\n",
       "      <th>9</th>\n",
       "    </tr>\n",
       "  </thead>\n",
       "  <tbody>\n",
       "    <tr>\n",
       "      <th>variable</th>\n",
       "      <td>x</td>\n",
       "      <td>x.1</td>\n",
       "      <td>x.2</td>\n",
       "      <td>x.3</td>\n",
       "      <td>x.4</td>\n",
       "      <td>x.5</td>\n",
       "      <td>x.6</td>\n",
       "      <td>x.7</td>\n",
       "      <td>x.8</td>\n",
       "      <td>x.9</td>\n",
       "    </tr>\n",
       "    <tr>\n",
       "      <th>cofficent</th>\n",
       "      <td>3.77854</td>\n",
       "      <td>-2.55092</td>\n",
       "      <td>-7.40288</td>\n",
       "      <td>10.2462</td>\n",
       "      <td>-7.82629</td>\n",
       "      <td>-12.788</td>\n",
       "      <td>33.7497</td>\n",
       "      <td>-4.03968</td>\n",
       "      <td>-25.8489</td>\n",
       "      <td>12.2225</td>\n",
       "    </tr>\n",
       "  </tbody>\n",
       "</table>\n",
       "</div>"
      ],
      "text/plain": [
       "                 0        1        2        3        4       5        6  \\\n",
       "variable         x      x.1      x.2      x.3      x.4     x.5      x.6   \n",
       "cofficent  3.77854 -2.55092 -7.40288  10.2462 -7.82629 -12.788  33.7497   \n",
       "\n",
       "                 7        8        9  \n",
       "variable       x.7      x.8      x.9  \n",
       "cofficent -4.03968 -25.8489  12.2225  "
      ]
     },
     "execution_count": 95,
     "metadata": {},
     "output_type": "execute_result"
    }
   ],
   "source": [
    "#importing sklearn  #5 -fold cross validation\n",
    "from sklearn.utils import shuffle\n",
    "from sklearn.model_selection import train_test_split\n",
    "RMSE_train=[]\n",
    "RMSE_test=[]\n",
    "coff=[]\n",
    "for i in range(1,6):\n",
    "    df=shuffle(df)\n",
    "    X=df.iloc[:,1:11]\n",
    "    y=df.iloc[:,0]\n",
    "    X_train,X_test,y_train,y_test=train_test_split(X,y,test_size=.2,random_state=42)\n",
    "    model=LinearRegression()\n",
    "    model.fit(X_train,y_train)\n",
    "    pred_train=model.predict(X_train)\n",
    "    MSE_train=m.sqrt(mean_squared_error(y_train,pred_train))\n",
    "    RMSE_train.append(MSE_train)\n",
    "    pred_test=model.predict(X_test)\n",
    "    MSE_test=m.sqrt(mean_squared_error(y_test,pred_test))\n",
    "    RMSE_test.append(MSE_test)\n",
    "    coff.append(model.coef_)\n",
    "index_min=RMSE_test.index(min(RMSE_test))\n",
    "print('RMSE_train_min \\n',min(RMSE_train))\n",
    "print('RMSE_test_min \\n',min(RMSE_test))\n",
    "print('cofficents')\n",
    "f={'variable':list(X.columns),'cofficent':list(coff[index_min])}\n",
    "f1=pd.DataFrame(f).transpose()\n",
    "f1"
   ]
  },
  {
   "cell_type": "markdown",
   "metadata": {},
   "source": [
    "b- Using RIDGE regression and various values (say 20) of λ between 0.0 and 10 find out the RIDGE regression coefficients and the RMSE values w.r.t. the training data itself. \n",
    "Also create a plot of the coefficients v/s λ. "
   ]
  },
  {
   "cell_type": "code",
   "execution_count": 206,
   "metadata": {},
   "outputs": [
    {
     "name": "stdout",
     "output_type": "stream",
     "text": [
      "RMSE \n",
      " [0.43267787336162833, 0.5322796020574262, 0.573869088454084, 0.607675832537254, 0.635795198123271, 0.6593930147531145, 0.6793971467484993, 0.6965361138593589, 0.7113722398651459, 0.724338268606882, 0.7357689203303388, 0.7459254028255269, 0.755013686532009, 0.7631979442897382, 0.7706104245153981, 0.7773587412418593, 0.7835313005141215, 0.7892013779236118, 0.794430213229231, 0.7992693825773987]\n",
      " \n",
      "Table:1 cofficents for 20 different values of lamda[0:.5:10]\n",
      "           x       x.1       x.2        x.3        x.4        x.5        x.6  \\\n",
      "0   3.513793 -3.887139 -8.644205  24.903084  12.454171 -63.964023 -15.467902   \n",
      "1   1.586323 -0.363789 -1.219771   0.070537  -0.980238   0.175368  -0.418204   \n",
      "2   1.283964 -0.324180 -0.855382   0.053860  -0.833904   0.173975  -0.463987   \n",
      "3   1.100418 -0.285007 -0.679470   0.050032  -0.726335   0.156320  -0.448005   \n",
      "4   0.970060 -0.251296 -0.569746   0.045863  -0.645293   0.136844  -0.422632   \n",
      "5   0.870655 -0.223499 -0.493116   0.041253  -0.581997   0.118922  -0.397241   \n",
      "6   0.791530 -0.200752 -0.436015   0.036581  -0.531110   0.103189  -0.373949   \n",
      "7   0.726650 -0.182066 -0.391609   0.032067  -0.489249   0.089556  -0.353097   \n",
      "8   0.672259 -0.166600 -0.356003   0.027807  -0.454167   0.077758  -0.334535   \n",
      "9   0.625866 -0.153686 -0.326779   0.023837  -0.424313   0.067513  -0.317995   \n",
      "10  0.585737 -0.142809 -0.302348   0.020158  -0.398581   0.058574  -0.303205   \n",
      "11  0.550620 -0.133570 -0.281615   0.016760  -0.376158   0.050730  -0.289919   \n",
      "12  0.519588 -0.125661 -0.263798   0.013622  -0.356434   0.043810  -0.277927   \n",
      "13  0.491935 -0.118839 -0.248324   0.010725  -0.338943   0.037672  -0.267051   \n",
      "14  0.467114 -0.112916 -0.234761   0.008047  -0.323318   0.032199  -0.257144   \n",
      "15  0.444692 -0.107740 -0.222777   0.005569  -0.309272   0.027298  -0.248081   \n",
      "16  0.424324 -0.103190 -0.212114   0.003272  -0.296573   0.022889  -0.239757   \n",
      "17  0.405729 -0.099168 -0.202566   0.001142  -0.285034   0.018907  -0.232085   \n",
      "18  0.388676 -0.095594 -0.193969  -0.000839  -0.274499   0.015297  -0.224990   \n",
      "19  0.372974 -0.092404 -0.186188  -0.002683  -0.264842   0.012013  -0.218407   \n",
      "\n",
      "          x.7       x.8        x.9  \n",
      "0   72.470039  8.413345 -30.070267  \n",
      "1    0.306088  0.021185   0.443204  \n",
      "2    0.279160 -0.122627   0.380407  \n",
      "3    0.236609 -0.169392   0.311564  \n",
      "4    0.199183 -0.187466   0.256632  \n",
      "5    0.168240 -0.194056   0.213533  \n",
      "6    0.142811 -0.195332   0.179306  \n",
      "7    0.121777 -0.193951   0.151688  \n",
      "8    0.104211 -0.191198   0.129063  \n",
      "9    0.089393 -0.187744   0.110275  \n",
      "10   0.076773 -0.183954   0.094485  \n",
      "11   0.065932 -0.180040   0.081076  \n",
      "12   0.056544 -0.176121   0.069582  \n",
      "13   0.048356 -0.172268   0.059648  \n",
      "14   0.041168 -0.168521   0.051001  \n",
      "15   0.034820 -0.164902   0.043423  \n",
      "16   0.029185 -0.161423   0.036743  \n",
      "17   0.024157 -0.158086   0.030824  \n",
      "18   0.019652 -0.154891   0.025554  \n",
      "19   0.015598 -0.151834   0.020840  \n"
     ]
    },
    {
     "data": {
      "text/plain": [
       "(Text(0.5, 1.0, 'lamda vs cofficent graph'),\n",
       " Text(0.5, 0, 'lamda'),\n",
       " Text(0, 0.5, 'cofficent'))"
      ]
     },
     "execution_count": 206,
     "metadata": {},
     "output_type": "execute_result"
    },
    {
     "data": {
      "image/png": "[encoded data removed]",
      "text/plain": [
       "<Figure size 432x288 with 1 Axes>"
      ]
     },
     "metadata": {},
     "output_type": "display_data"
    }
   ],
   "source": [
    "lamda=np.arange(0,10,.5)\n",
    "RMSE=[]\n",
    "coff=[]\n",
    "from sklearn.linear_model import Ridge\n",
    "for i in range(len(lamda)):\n",
    "    model_ridge=Ridge(alpha=lamda[i])\n",
    "    model_ridge.fit(X,y)\n",
    "    pred=model_ridge.predict(X)\n",
    "    rmse=m.sqrt(mean_squared_error(y,pred))\n",
    "    RMSE.append(rmse)\n",
    "    coff.append(model_ridge.coef_)\n",
    "index_min=RMSE.index(min(RMSE))\n",
    "coff_opt=coff[index_min]\n",
    "print('RMSE \\n',RMSE)\n",
    "print(\" \")\n",
    "coff1=pd.DataFrame(coff)\n",
    "coff1.columns=X.columns\n",
    "print(\"Table:1 cofficents for 20 different values of lamda[0:.5:10]\")\n",
    "print(coff1)\n",
    "plt.figure()\n",
    "plt.plot(lamda,coff1.iloc[:,0],'r')\n",
    "plt.title('lamda vs cofficent graph'),plt.xlabel('lamda'),plt.ylabel('cofficent')\n"
   ]
  },
  {
   "cell_type": "code",
   "execution_count": 193,
   "metadata": {},
   "outputs": [
    {
     "data": {
      "text/plain": [
       "([<matplotlib.lines.Line2D at 0x1a694030278>],\n",
       " Text(0.5, 1.0, 'lamda V/s RMSE plot'),\n",
       " Text(0.5, 0, 'lamda'),\n",
       " Text(0, 0.5, 'RMSE'))"
      ]
     },
     "execution_count": 193,
     "metadata": {},
     "output_type": "execute_result"
    },
    {
     "data": {
      "image/png": "[encoded data removed]",
      "text/plain": [
       "<Figure size 432x288 with 1 Axes>"
      ]
     },
     "metadata": {},
     "output_type": "display_data"
    }
   ],
   "source": [
    "plt.figure()\n",
    "plt.plot(lamda,RMSE,'r'),plt.title('lamda V/s RMSE plot'),plt.xlabel('lamda'),plt.ylabel('RMSE')"
   ]
  },
  {
   "cell_type": "markdown",
   "metadata": {},
   "source": [
    "1.(c) Using RIDGE regression and 10-fold cross validation find out the most optimum value of λ. \n",
    "Also create a plot of coefficients v/s  λ.Use appropriate Python packages /\n",
    "funcions to perform this task"
   ]
  },
  {
   "cell_type": "code",
   "execution_count": 248,
   "metadata": {},
   "outputs": [
    {
     "name": "stdout",
     "output_type": "stream",
     "text": [
      "[1.0923024518673574, 0.6586595604553649, 0.7114971788648223, 0.7511379992879572, 0.780851278692236, 0.803771926631854, 0.8219627411839251, 0.8367583869978655, 0.8490427949819563, 0.8594192338544517, 0.8683117161188354, 0.876026394038609, 0.8827897080107142, 0.8887727590301657, 0.894107304983131, 0.898896526488018, 0.9032224416921439, 0.9071511218612466, 0.9107364311905658, 0.9140227557791702]\n",
      "optimum_lamda = 0.5\n",
      "minimun_RMSE =  0.6586595604553649\n",
      "optimum_coff \n",
      " 0    -3.887139\n",
      "1    -0.363789\n",
      "2    -0.324180\n",
      "3    -0.285007\n",
      "4    -0.251296\n",
      "5    -0.223499\n",
      "6    -0.200752\n",
      "7    -0.182066\n",
      "8    -0.166600\n",
      "9    -0.153686\n",
      "10   -0.142809\n",
      "11   -0.133570\n",
      "12   -0.125661\n",
      "13   -0.118839\n",
      "14   -0.112916\n",
      "15   -0.107740\n",
      "16   -0.103190\n",
      "17   -0.099168\n",
      "18   -0.095594\n",
      "19   -0.092404\n",
      "Name: 1, dtype: float64\n"
     ]
    },
    {
     "data": {
      "text/plain": [
       "(Text(0.5, 1.0, 'lamda vs cofficent graph(Ridge)'),\n",
       " Text(0.5, 0, 'lamda'),\n",
       " Text(0, 0.5, 'cofficent'))"
      ]
     },
     "execution_count": 248,
     "metadata": {},
     "output_type": "execute_result"
    },
    {
     "data": {
      "image/png": "[encoded data removed]",
      "text/plain": [
       "<Figure size 432x288 with 1 Axes>"
      ]
     },
     "metadata": {},
     "output_type": "display_data"
    }
   ],
   "source": [
    "lamda=np.arange(0,10,.5)\n",
    "RMSE_cv=[]\n",
    "coff_cv=[]\n",
    "from sklearn.model_selection import cross_val_score\n",
    "for i in  range(len(lamda)):\n",
    "    ridge=Ridge(alpha=lamda[i])\n",
    "    ridge.fit(X,y)\n",
    "    #pred_y=ridge.predict(X)\n",
    "    mse=abs(cross_val_score(ridge, X, y,scoring='neg_mean_squared_error',cv=5).mean())\n",
    "    RMSE_cv.append(m.sqrt(mse))\n",
    "    coff_cv.append(ridge.coef_)\n",
    "print(RMSE_cv)\n",
    "coff_cv=pd.DataFrame(coff_cv)\n",
    "#plt.plot(lamda,RMSE_cv)\n",
    "index_min=RMSE_cv.index(min(RMSE_cv))\n",
    "print('optimum_lamda =',lamda[index_min])\n",
    "print('minimun_RMSE = ',RMSE_cv[index_min])\n",
    "print('optimum_coff \\n',coff_cv[index_min])\n",
    "plt.plot(lamda,coff_cv.iloc[:,0],'b')\n",
    "plt.title('lamda vs cofficent graph(Ridge)'),plt.xlabel('lamda'),plt.ylabel('cofficent')"
   ]
  },
  {
   "cell_type": "markdown",
   "metadata": {},
   "source": [
    "d) Using LASSO regression and and 10-fold cross validation find out the most optimum value of λ. \n",
    "Also create a plot of coefficients v/s  λ. Use appropriate Python packages / funcions to perform this task. "
   ]
  },
  {
   "cell_type": "code",
   "execution_count": 272,
   "metadata": {},
   "outputs": [
    {
     "name": "stdout",
     "output_type": "stream",
     "text": [
      "[1.0358895290143084, 1.0328953845009938, 1.0328953845009938, 1.0328953845009938, 1.0328953845009938, 1.0328953845009938, 1.0328953845009938, 1.0328953845009938, 1.0328953845009938, 1.0328953845009938, 1.0328953845009938, 1.0328953845009938, 1.0328953845009938, 1.0328953845009938, 1.0328953845009938, 1.0328953845009938, 1.0328953845009938, 1.0328953845009938, 1.0328953845009938, 1.0328953845009938]\n",
      "optimum_lamda = 1.0\n",
      "minimun_RMSE =  1.0328953845009938\n",
      "optimum_coff \n",
      " 0    -0.0\n",
      "1    -0.0\n",
      "2    -0.0\n",
      "3    -0.0\n",
      "4    -0.0\n",
      "5    -0.0\n",
      "6    -0.0\n",
      "7    -0.0\n",
      "8    -0.0\n",
      "9    -0.0\n",
      "10   -0.0\n",
      "11   -0.0\n",
      "12   -0.0\n",
      "13   -0.0\n",
      "14   -0.0\n",
      "15   -0.0\n",
      "16   -0.0\n",
      "17   -0.0\n",
      "18   -0.0\n",
      "19   -0.0\n",
      "Name: 1, dtype: float64\n",
      "      0    1    2    3    4    5    6    7    8    9\n",
      "0  -0.0 -0.0 -0.0 -0.0 -0.0 -0.0 -0.0 -0.0 -0.0 -0.0\n",
      "1  -0.0 -0.0 -0.0 -0.0 -0.0 -0.0 -0.0 -0.0 -0.0 -0.0\n",
      "2  -0.0 -0.0 -0.0 -0.0 -0.0 -0.0 -0.0 -0.0 -0.0 -0.0\n",
      "3  -0.0 -0.0 -0.0 -0.0 -0.0 -0.0 -0.0 -0.0 -0.0 -0.0\n",
      "4  -0.0 -0.0 -0.0 -0.0 -0.0 -0.0 -0.0 -0.0 -0.0 -0.0\n",
      "5  -0.0 -0.0 -0.0 -0.0 -0.0 -0.0 -0.0 -0.0 -0.0 -0.0\n",
      "6  -0.0 -0.0 -0.0 -0.0 -0.0 -0.0 -0.0 -0.0 -0.0 -0.0\n",
      "7  -0.0 -0.0 -0.0 -0.0 -0.0 -0.0 -0.0 -0.0 -0.0 -0.0\n",
      "8  -0.0 -0.0 -0.0 -0.0 -0.0 -0.0 -0.0 -0.0 -0.0 -0.0\n",
      "9  -0.0 -0.0 -0.0 -0.0 -0.0 -0.0 -0.0 -0.0 -0.0 -0.0\n",
      "10 -0.0 -0.0 -0.0 -0.0 -0.0 -0.0 -0.0 -0.0 -0.0 -0.0\n",
      "11 -0.0 -0.0 -0.0 -0.0 -0.0 -0.0 -0.0 -0.0 -0.0 -0.0\n",
      "12 -0.0 -0.0 -0.0 -0.0 -0.0 -0.0 -0.0 -0.0 -0.0 -0.0\n",
      "13 -0.0 -0.0 -0.0 -0.0 -0.0 -0.0 -0.0 -0.0 -0.0 -0.0\n",
      "14 -0.0 -0.0 -0.0 -0.0 -0.0 -0.0 -0.0 -0.0 -0.0 -0.0\n",
      "15 -0.0 -0.0 -0.0 -0.0 -0.0 -0.0 -0.0 -0.0 -0.0 -0.0\n",
      "16 -0.0 -0.0 -0.0 -0.0 -0.0 -0.0 -0.0 -0.0 -0.0 -0.0\n",
      "17 -0.0 -0.0 -0.0 -0.0 -0.0 -0.0 -0.0 -0.0 -0.0 -0.0\n",
      "18 -0.0 -0.0 -0.0 -0.0 -0.0 -0.0 -0.0 -0.0 -0.0 -0.0\n",
      "19 -0.0 -0.0 -0.0 -0.0 -0.0 -0.0 -0.0 -0.0 -0.0 -0.0\n"
     ]
    },
    {
     "data": {
      "image/png": "[encoded data removed]",
      "text/plain": [
       "<Figure size 432x288 with 1 Axes>"
      ]
     },
     "metadata": {},
     "output_type": "display_data"
    }
   ],
   "source": [
    "from sklearn.linear_model import Lasso\n",
    "lamda=np.arange(0.5,10.5,.5)\n",
    "RMSE_l=[]\n",
    "coff_l=[]\n",
    "from sklearn.model_selection import cross_val_score\n",
    "for i in  range(len(lamda)):\n",
    "    lasso=Lasso(alpha=lamda[i])\n",
    "    lasso.fit(X,y)\n",
    "    #pred_y=Lasso.predict(X)\n",
    "    mse=abs(cross_val_score(lasso, X, y,scoring='neg_mean_squared_error',cv=5).mean())\n",
    "    RMSE_l.append(m.sqrt(mse))\n",
    "    coff_l.append(lasso.coef_)\n",
    "print(RMSE_l)\n",
    "coff_l=pd.DataFrame(coff_l)\n",
    "#plt.plot(lamda,RMSE_l)\n",
    "index_min=RMSE_l.index(min(RMSE_l))\n",
    "print('optimum_lamda =',lamda[index_min])\n",
    "print('minimun_RMSE = ',RMSE_l[index_min])\n",
    "print('optimum_coff \\n',coff_l[index_min])\n",
    "plt.plot(lamda,coff_l.iloc[:,0],'b')\n",
    "plt.title('lamda vs cofficent graph (lasso)'),plt.xlabel('lamda'),plt.ylabel('cofficent')\n",
    "print(coff_l)"
   ]
  },
  {
   "cell_type": "markdown",
   "metadata": {},
   "source": [
    "f-Using ELASTiC NET and 10-fold cross validation find out the most optimum regression coefficients.\n",
    "Use appropriate Python packages / funcions to perform this task."
   ]
  },
  {
   "cell_type": "code",
   "execution_count": 273,
   "metadata": {},
   "outputs": [
    {
     "name": "stdout",
     "output_type": "stream",
     "text": [
      "[1.033258564062702, 1.0348303517655486, 1.0328953845009938, 1.0328953845009938, 1.0328953845009938, 1.0328953845009938, 1.0328953845009938, 1.0328953845009938, 1.0328953845009938, 1.0328953845009938, 1.0328953845009938, 1.0328953845009938, 1.0328953845009938, 1.0328953845009938, 1.0328953845009938, 1.0328953845009938, 1.0328953845009938, 1.0328953845009938, 1.0328953845009938, 1.0328953845009938]\n",
      "optimum_lamda = 1.5\n",
      "minimun_RMSE =  1.0328953845009938\n",
      "optimum_coff \n",
      " 0    -0.0\n",
      "1    -0.0\n",
      "2    -0.0\n",
      "3    -0.0\n",
      "4    -0.0\n",
      "5    -0.0\n",
      "6    -0.0\n",
      "7    -0.0\n",
      "8    -0.0\n",
      "9    -0.0\n",
      "10   -0.0\n",
      "11   -0.0\n",
      "12   -0.0\n",
      "13   -0.0\n",
      "14   -0.0\n",
      "15   -0.0\n",
      "16   -0.0\n",
      "17   -0.0\n",
      "18   -0.0\n",
      "19   -0.0\n",
      "Name: 2, dtype: float64\n",
      "      0    1    2    3         4    5         6    7    8    9\n",
      "0   0.0 -0.0 -0.0 -0.0 -0.098808 -0.0 -0.061155 -0.0 -0.0 -0.0\n",
      "1  -0.0 -0.0 -0.0 -0.0 -0.000000 -0.0 -0.000000 -0.0 -0.0 -0.0\n",
      "2  -0.0 -0.0 -0.0 -0.0 -0.000000 -0.0 -0.000000 -0.0 -0.0 -0.0\n",
      "3  -0.0 -0.0 -0.0 -0.0 -0.000000 -0.0 -0.000000 -0.0 -0.0 -0.0\n",
      "4  -0.0 -0.0 -0.0 -0.0 -0.000000 -0.0 -0.000000 -0.0 -0.0 -0.0\n",
      "5  -0.0 -0.0 -0.0 -0.0 -0.000000 -0.0 -0.000000 -0.0 -0.0 -0.0\n",
      "6  -0.0 -0.0 -0.0 -0.0 -0.000000 -0.0 -0.000000 -0.0 -0.0 -0.0\n",
      "7  -0.0 -0.0 -0.0 -0.0 -0.000000 -0.0 -0.000000 -0.0 -0.0 -0.0\n",
      "8  -0.0 -0.0 -0.0 -0.0 -0.000000 -0.0 -0.000000 -0.0 -0.0 -0.0\n",
      "9  -0.0 -0.0 -0.0 -0.0 -0.000000 -0.0 -0.000000 -0.0 -0.0 -0.0\n",
      "10 -0.0 -0.0 -0.0 -0.0 -0.000000 -0.0 -0.000000 -0.0 -0.0 -0.0\n",
      "11 -0.0 -0.0 -0.0 -0.0 -0.000000 -0.0 -0.000000 -0.0 -0.0 -0.0\n",
      "12 -0.0 -0.0 -0.0 -0.0 -0.000000 -0.0 -0.000000 -0.0 -0.0 -0.0\n",
      "13 -0.0 -0.0 -0.0 -0.0 -0.000000 -0.0 -0.000000 -0.0 -0.0 -0.0\n",
      "14 -0.0 -0.0 -0.0 -0.0 -0.000000 -0.0 -0.000000 -0.0 -0.0 -0.0\n",
      "15 -0.0 -0.0 -0.0 -0.0 -0.000000 -0.0 -0.000000 -0.0 -0.0 -0.0\n",
      "16 -0.0 -0.0 -0.0 -0.0 -0.000000 -0.0 -0.000000 -0.0 -0.0 -0.0\n",
      "17 -0.0 -0.0 -0.0 -0.0 -0.000000 -0.0 -0.000000 -0.0 -0.0 -0.0\n",
      "18 -0.0 -0.0 -0.0 -0.0 -0.000000 -0.0 -0.000000 -0.0 -0.0 -0.0\n",
      "19 -0.0 -0.0 -0.0 -0.0 -0.000000 -0.0 -0.000000 -0.0 -0.0 -0.0\n"
     ]
    },
    {
     "data": {
      "image/png": "[encoded data removed]",
      "text/plain": [
       "<Figure size 432x288 with 1 Axes>"
      ]
     },
     "metadata": {},
     "output_type": "display_data"
    }
   ],
   "source": [
    "from sklearn.linear_model import ElasticNet\n",
    "lamda=np.arange(.5,10.5,.5)\n",
    "RMSE_e=[]\n",
    "coff_e=[]\n",
    "from sklearn.model_selection import cross_val_score\n",
    "for i in  range(len(lamda)):\n",
    "    elas=ElasticNet(alpha=lamda[i])\n",
    "    elas.fit(X,y)\n",
    "    #pred_y=Lasso.predict(X)\n",
    "    mse=abs(cross_val_score(elas, X, y,scoring='neg_mean_squared_error',cv=5).mean())\n",
    "    RMSE_e.append(m.sqrt(mse))\n",
    "    coff_e.append(elas.coef_)\n",
    "print(RMSE_e)\n",
    "coff_e=pd.DataFrame(coff_e)\n",
    "#plt.plot(lamda,RMSE_e)\n",
    "index_min=RMSE_e.index(min(RMSE_e))\n",
    "print('optimum_lamda =',lamda[index_min])\n",
    "print('minimun_RMSE = ',RMSE_e[index_min])\n",
    "print('optimum_coff \\n',coff_e[index_min])\n",
    "plt.plot(lamda,coff_e.iloc[:,0],'b')\n",
    "plt.title('lamda vs cofficent graph (elas)'),plt.xlabel('lamda'),plt.ylabel('cofficent')\n",
    "print(coff_e) "
   ]
  },
  {
   "cell_type": "markdown",
   "metadata": {},
   "source": [
    "#only two variables are required for the model...that is X4 and X6"
   ]
  },
  {
   "cell_type": "code",
   "execution_count": null,
   "metadata": {},
   "outputs": [],
   "source": []
  }
 ],
 "metadata": {
  "kernelspec": {
   "display_name": "Python 3",
   "language": "python",
   "name": "python3"
  },
  "language_info": {
   "codemirror_mode": {
    "name": "ipython",
    "version": 3
   },
   "file_extension": ".py",
   "mimetype": "text/x-python",
   "name": "python",
   "nbconvert_exporter": "python",
   "pygments_lexer": "ipython3",
   "version": "3.7.3"
  }
 },
 "nbformat": 4,
 "nbformat_minor": 2
}
